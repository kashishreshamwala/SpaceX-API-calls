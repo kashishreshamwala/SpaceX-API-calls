{
 "cells": [
  {
   "cell_type": "code",
   "execution_count": 8,
   "id": "07f59ed1-5980-4dd1-bf88-4c7e29ea549a",
   "metadata": {},
   "outputs": [
    {
     "name": "stderr",
     "output_type": "stream",
     "text": [
      "C:\\Users\\kash7\\AppData\\Local\\Temp\\ipykernel_5008\\980399345.py:10: FutureWarning: Passing literal html to 'read_html' is deprecated and will be removed in a future version. To read from a literal string, wrap it in a 'StringIO' object.\n",
      "  tables = pd.read_html(response.text)\n"
     ]
    },
    {
     "name": "stdout",
     "output_type": "stream",
     "text": [
      "\n",
      "🔎 Table 0 columns:\n",
      "Index([0, 1], dtype='int64')\n",
      "\n",
      "🔎 Table 1 columns:\n",
      "Index([0, 1], dtype='int64')\n",
      "\n",
      "🔎 Table 2 columns:\n",
      "Index(['Flight No.', 'Date and time (UTC)', 'Version, booster[h]',\n",
      "       'Launch site', 'Payload[i]', 'Payload mass', 'Orbit', 'Customer',\n",
      "       'Launch outcome', 'Booster landing'],\n",
      "      dtype='object')\n",
      "\n",
      "🔎 Table 3 columns:\n",
      "Index(['Flight No.', 'Date and time (UTC)', 'Version, booster[h]',\n",
      "       'Launch site', 'Payload[i]', 'Payload mass', 'Orbit', 'Customer',\n",
      "       'Launch outcome', 'Booster landing'],\n",
      "      dtype='object')\n",
      "\n",
      "🔎 Table 4 columns:\n",
      "Index(['Flight No.', 'Date and time (UTC)', 'Version, booster[h]',\n",
      "       'Launch site', 'Payload[i]', 'Payload mass', 'Orbit', 'Customer',\n",
      "       'Launch outcome', 'Booster landing'],\n",
      "      dtype='object')\n"
     ]
    }
   ],
   "source": [
    "import pandas as pd\n",
    "import requests\n",
    "from bs4 import BeautifulSoup\n",
    "\n",
    "# Fetch the Wikipedia page\n",
    "url = 'https://en.wikipedia.org/wiki/List_of_Falcon_9_and_Falcon_Heavy_launches'\n",
    "response = requests.get(url)\n",
    "\n",
    "# Extract all tables from the page\n",
    "tables = pd.read_html(response.text)\n",
    "\n",
    "# Print the first few column names of each table\n",
    "for idx, table in enumerate(tables[:5]):\n",
    "    print(f\"\\n🔎 Table {idx} columns:\")\n",
    "    print(table.columns)\n"
   ]
  },
  {
   "cell_type": "code",
   "execution_count": null,
   "id": "9304c1c9-1d78-4567-9193-f9c437f6fc39",
   "metadata": {},
   "outputs": [],
   "source": []
  }
 ],
 "metadata": {
  "kernelspec": {
   "display_name": "Python 3 (ipykernel)",
   "language": "python",
   "name": "python3"
  },
  "language_info": {
   "codemirror_mode": {
    "name": "ipython",
    "version": 3
   },
   "file_extension": ".py",
   "mimetype": "text/x-python",
   "name": "python",
   "nbconvert_exporter": "python",
   "pygments_lexer": "ipython3",
   "version": "3.12.7"
  }
 },
 "nbformat": 4,
 "nbformat_minor": 5
}
