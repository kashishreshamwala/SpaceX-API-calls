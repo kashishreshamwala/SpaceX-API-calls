{
 "cells": [
  {
   "cell_type": "code",
   "execution_count": 1,
   "id": "62756246-044c-4aa1-a86c-ee18ac88d8c4",
   "metadata": {},
   "outputs": [
    {
     "name": "stdout",
     "output_type": "stream",
     "text": [
      "API request successful!\n",
      "\n",
      "Number of rows: 205\n",
      "Number of columns: 43\n",
      "\n",
      "Columns:\n",
      "['static_fire_date_utc', 'static_fire_date_unix', 'net', 'window', 'rocket', 'success', 'failures', 'details', 'crew', 'ships', 'capsules', 'payloads', 'launchpad', 'flight_number', 'name', 'date_utc', 'date_unix', 'date_local', 'date_precision', 'upcoming', 'cores', 'auto_update', 'tbd', 'launch_library_id', 'id', 'fairings.reused', 'fairings.recovery_attempt', 'fairings.recovered', 'fairings.ships', 'links.patch.small', 'links.patch.large', 'links.reddit.campaign', 'links.reddit.launch', 'links.reddit.media', 'links.reddit.recovery', 'links.flickr.small', 'links.flickr.original', 'links.presskit', 'links.webcast', 'links.youtube_id', 'links.article', 'links.wikipedia', 'fairings']\n"
     ]
    }
   ],
   "source": [
    "import requests\n",
    "import pandas as pd\n",
    "import json\n",
    "\n",
    "url = \"https://api.spacexdata.com/v4/launches\"\n",
    "\n",
    "response = requests.get(url)\n",
    "\n",
    "if response.status_code == 200:\n",
    "    print(\"API request successful!\")\n",
    "    launches_data = response.json()  # Extract JSON content\n",
    "else:\n",
    "    print(\"API request failed with status code:\", response.status_code)\n",
    "    launches_data = []\n",
    "\n",
    "launches_df = pd.json_normalize(launches_data)\n",
    "\n",
    "launches_df.head()\n",
    "\n",
    "launches_df.to_csv(\"spacex_launch_data.csv\", index=False)\n",
    "\n",
    "print(\"\\nNumber of rows:\", launches_df.shape[0])\n",
    "print(\"Number of columns:\", launches_df.shape[1])\n",
    "print(\"\\nColumns:\")\n",
    "print(launches_df.columns.tolist())\n"
   ]
  },
  {
   "cell_type": "code",
   "execution_count": null,
   "id": "8c380367-00e8-46e4-acf1-27f173cc7c0b",
   "metadata": {},
   "outputs": [],
   "source": []
  }
 ],
 "metadata": {
  "kernelspec": {
   "display_name": "Python 3 (ipykernel)",
   "language": "python",
   "name": "python3"
  },
  "language_info": {
   "codemirror_mode": {
    "name": "ipython",
    "version": 3
   },
   "file_extension": ".py",
   "mimetype": "text/x-python",
   "name": "python",
   "nbconvert_exporter": "python",
   "pygments_lexer": "ipython3",
   "version": "3.12.7"
  }
 },
 "nbformat": 4,
 "nbformat_minor": 5
}
